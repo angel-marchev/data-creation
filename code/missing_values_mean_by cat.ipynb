{
 "cells": [
  {
   "cell_type": "code",
   "execution_count": 1,
   "id": "a8e12d81",
   "metadata": {
    "ExecuteTime": {
     "end_time": "2024-04-20T08:00:41.148627Z",
     "start_time": "2024-04-20T08:00:40.908271Z"
    }
   },
   "outputs": [],
   "source": [
    "import pandas as pd\n",
    "import numpy as np"
   ]
  },
  {
   "cell_type": "code",
   "execution_count": 2,
   "id": "87a088ee",
   "metadata": {
    "ExecuteTime": {
     "end_time": "2024-04-20T08:00:42.057699Z",
     "start_time": "2024-04-20T08:00:42.055177Z"
    }
   },
   "outputs": [],
   "source": [
    "# Seed for reproducibility\n",
    "np.random.seed(42)"
   ]
  },
  {
   "cell_type": "code",
   "execution_count": 3,
   "id": "8a9e61be",
   "metadata": {
    "ExecuteTime": {
     "end_time": "2024-04-20T08:00:43.606231Z",
     "start_time": "2024-04-20T08:00:43.599961Z"
    }
   },
   "outputs": [],
   "source": [
    "# Creating the DataFrame\n",
    "data = {\n",
    "    'Category': np.random.choice(['A', 'B', 'C'], size=10),  # Categorical variable with 3 categories\n",
    "    'Numeric1': np.random.uniform(1, 100, size=10),  # First numeric variable\n",
    "    'Numeric2': np.random.uniform(1, 100, size=10)   # Second numeric variable\n",
    "}"
   ]
  },
  {
   "cell_type": "code",
   "execution_count": 4,
   "id": "9caaf33c",
   "metadata": {
    "ExecuteTime": {
     "end_time": "2024-04-20T08:00:44.859433Z",
     "start_time": "2024-04-20T08:00:44.856324Z"
    }
   },
   "outputs": [],
   "source": [
    "df = pd.DataFrame(data)"
   ]
  },
  {
   "cell_type": "code",
   "execution_count": 5,
   "id": "d396ec33",
   "metadata": {
    "ExecuteTime": {
     "end_time": "2024-04-20T08:00:45.738332Z",
     "start_time": "2024-04-20T08:00:45.733628Z"
    }
   },
   "outputs": [],
   "source": [
    "# Introduce missing values randomly in Numeric1 and Numeric2\n",
    "missing_indices1 = np.random.choice(df.index, size=3, replace=False)\n",
    "missing_indices2 = np.random.choice(df.index, size=2, replace=False)\n",
    "\n",
    "df.loc[missing_indices1, 'Numeric1'] = np.nan\n",
    "df.loc[missing_indices2, 'Numeric2'] = np.nan"
   ]
  },
  {
   "cell_type": "code",
   "execution_count": 6,
   "id": "9bff871b",
   "metadata": {
    "ExecuteTime": {
     "end_time": "2024-04-20T08:00:47.023349Z",
     "start_time": "2024-04-20T08:00:47.018449Z"
    }
   },
   "outputs": [
    {
     "name": "stdout",
     "output_type": "stream",
     "text": [
      "  Category   Numeric1   Numeric2\n",
      "0        C   6.750278  31.119982\n",
      "1        A        NaN  52.950887\n",
      "2        C  60.510386        NaN\n",
      "3        C  71.099185  29.831685\n",
      "4        A   3.037865  61.573437\n",
      "5        A  97.021075        NaN\n",
      "6        C  83.411821  29.922320\n",
      "7        B        NaN  37.269822\n",
      "8        C        NaN  46.150928\n",
      "9        C  19.157046  78.732420\n"
     ]
    }
   ],
   "source": [
    "print(df)"
   ]
  },
  {
   "cell_type": "code",
   "execution_count": 7,
   "id": "458ae59b",
   "metadata": {
    "ExecuteTime": {
     "end_time": "2024-04-20T08:01:08.052968Z",
     "start_time": "2024-04-20T08:01:08.039308Z"
    }
   },
   "outputs": [],
   "source": [
    "# Fill missing values within each category class with the mean of that class\n",
    "df['Numeric1'] = df.groupby('Category')['Numeric1'].transform(lambda x: x.fillna(x.mean()))\n",
    "df['Numeric2'] = df.groupby('Category')['Numeric2'].transform(lambda x: x.fillna(x.mean()))"
   ]
  },
  {
   "cell_type": "code",
   "execution_count": 8,
   "id": "136eedb9",
   "metadata": {
    "ExecuteTime": {
     "end_time": "2024-04-20T08:01:11.227115Z",
     "start_time": "2024-04-20T08:01:11.222260Z"
    }
   },
   "outputs": [
    {
     "name": "stdout",
     "output_type": "stream",
     "text": [
      "  Category   Numeric1   Numeric2\n",
      "0        C   6.750278  31.119982\n",
      "1        A  50.029470  52.950887\n",
      "2        C  60.510386  43.151467\n",
      "3        C  71.099185  29.831685\n",
      "4        A   3.037865  61.573437\n",
      "5        A  97.021075  57.262162\n",
      "6        C  83.411821  29.922320\n",
      "7        B        NaN  37.269822\n",
      "8        C  48.185743  46.150928\n",
      "9        C  19.157046  78.732420\n"
     ]
    }
   ],
   "source": [
    "print(df)"
   ]
  },
  {
   "cell_type": "code",
   "execution_count": null,
   "id": "f8f2602e",
   "metadata": {},
   "outputs": [],
   "source": []
  }
 ],
 "metadata": {
  "hide_input": false,
  "kernelspec": {
   "display_name": "Python 3 (ipykernel)",
   "language": "python",
   "name": "python3"
  },
  "language_info": {
   "codemirror_mode": {
    "name": "ipython",
    "version": 3
   },
   "file_extension": ".py",
   "mimetype": "text/x-python",
   "name": "python",
   "nbconvert_exporter": "python",
   "pygments_lexer": "ipython3",
   "version": "3.9.13"
  },
  "latex_envs": {
   "LaTeX_envs_menu_present": true,
   "autoclose": false,
   "autocomplete": true,
   "bibliofile": "biblio.bib",
   "cite_by": "apalike",
   "current_citInitial": 1,
   "eqLabelWithNumbers": true,
   "eqNumInitial": 1,
   "hotkeys": {
    "equation": "Ctrl-E",
    "itemize": "Ctrl-I"
   },
   "labels_anchors": false,
   "latex_user_defs": false,
   "report_style_numbering": false,
   "user_envs_cfg": false
  },
  "varInspector": {
   "cols": {
    "lenName": 16,
    "lenType": 16,
    "lenVar": 40
   },
   "kernels_config": {
    "python": {
     "delete_cmd_postfix": "",
     "delete_cmd_prefix": "del ",
     "library": "var_list.py",
     "varRefreshCmd": "print(var_dic_list())"
    },
    "r": {
     "delete_cmd_postfix": ") ",
     "delete_cmd_prefix": "rm(",
     "library": "var_list.r",
     "varRefreshCmd": "cat(var_dic_list()) "
    }
   },
   "types_to_exclude": [
    "module",
    "function",
    "builtin_function_or_method",
    "instance",
    "_Feature"
   ],
   "window_display": false
  }
 },
 "nbformat": 4,
 "nbformat_minor": 5
}
