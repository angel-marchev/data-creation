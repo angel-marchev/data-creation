{
 "cells": [
  {
   "cell_type": "code",
   "execution_count": 5,
   "id": "f1dea186",
   "metadata": {
    "ExecuteTime": {
     "end_time": "2024-04-17T17:21:53.615626Z",
     "start_time": "2024-04-17T17:21:53.613128Z"
    }
   },
   "outputs": [],
   "source": [
    "import pandas as pd\n",
    "import numpy as np"
   ]
  },
  {
   "cell_type": "code",
   "execution_count": 6,
   "id": "388356b0",
   "metadata": {
    "ExecuteTime": {
     "end_time": "2024-04-17T17:22:14.171142Z",
     "start_time": "2024-04-17T17:22:14.168223Z"
    }
   },
   "outputs": [],
   "source": [
    "# Creating a DataFrame with an initial imbalance\n",
    "data = {\n",
    "    'Feature1': np.random.randint(1, 100, 10),\n",
    "    'Feature2': np.random.randint(1, 100, 10),\n",
    "    'Class': ['A', 'A', 'A', 'B', 'B', 'B', 'B', 'B', 'B', 'B']  # 3 instances of class 'A' and 7 of class 'B'\n",
    "}\n",
    "\n",
    "df = pd.DataFrame(data)"
   ]
  },
  {
   "cell_type": "code",
   "execution_count": 3,
   "id": "d2940b4e",
   "metadata": {
    "ExecuteTime": {
     "end_time": "2024-04-17T12:07:41.274917Z",
     "start_time": "2024-04-17T12:07:41.271352Z"
    }
   },
   "outputs": [],
   "source": [
    "def random_oversampling(df, class_column):\n",
    "    # Calculate the number of each class\n",
    "    class_counts = df[class_column].value_counts()\n",
    "    majority_count = class_counts.max()\n",
    "    minority_count = class_counts.min()\n",
    "    \n",
    "    # Determine majority and minority classes\n",
    "    minority_class = class_counts.idxmin()\n",
    "    majority_class = class_counts.idxmax()\n",
    "    \n",
    "    # Calculate multiplier as the ratio of majority to minority counts\n",
    "    multiplier = majority_count // minority_count\n",
    "    \n",
    "    # Separate the classes\n",
    "    minority_df = df[df[class_column] == minority_class]\n",
    "    majority_df = df[df[class_column] == majority_class]\n",
    "    \n",
    "    # Replicate the minority data\n",
    "    oversampled_minority_df = pd.concat([minority_df] * multiplier, ignore_index=True)\n",
    "    \n",
    "    # Combine back with the majority data\n",
    "    oversampled_df = pd.concat([majority_df, oversampled_minority_df], ignore_index=True)\n",
    "    \n",
    "    return oversampled_df"
   ]
  },
  {
   "cell_type": "code",
   "execution_count": 4,
   "id": "cecbee28",
   "metadata": {
    "ExecuteTime": {
     "end_time": "2024-04-17T12:07:42.918060Z",
     "start_time": "2024-04-17T12:07:42.883626Z"
    }
   },
   "outputs": [
    {
     "name": "stdout",
     "output_type": "stream",
     "text": [
      "    Feature1  Feature2 Class\n",
      "0         37        14     B\n",
      "1         16         3     B\n",
      "2         32        71     B\n",
      "3         57        11     B\n",
      "4         63        98     B\n",
      "5          7        30     B\n",
      "6         62        80     B\n",
      "7         25        27     A\n",
      "8         26        15     A\n",
      "9         55         5     A\n",
      "10        25        27     A\n",
      "11        26        15     A\n",
      "12        55         5     A\n"
     ]
    }
   ],
   "source": [
    "# Apply the oversampling function\n",
    "oversampled_df = random_oversampling(df, 'Class')\n",
    "print(oversampled_df)"
   ]
  }
 ],
 "metadata": {
  "hide_input": false,
  "kernelspec": {
   "display_name": "Python 3 (ipykernel)",
   "language": "python",
   "name": "python3"
  },
  "language_info": {
   "codemirror_mode": {
    "name": "ipython",
    "version": 3
   },
   "file_extension": ".py",
   "mimetype": "text/x-python",
   "name": "python",
   "nbconvert_exporter": "python",
   "pygments_lexer": "ipython3",
   "version": "3.9.13"
  },
  "latex_envs": {
   "LaTeX_envs_menu_present": true,
   "autoclose": false,
   "autocomplete": true,
   "bibliofile": "biblio.bib",
   "cite_by": "apalike",
   "current_citInitial": 1,
   "eqLabelWithNumbers": true,
   "eqNumInitial": 1,
   "hotkeys": {
    "equation": "Ctrl-E",
    "itemize": "Ctrl-I"
   },
   "labels_anchors": false,
   "latex_user_defs": false,
   "report_style_numbering": false,
   "user_envs_cfg": false
  },
  "varInspector": {
   "cols": {
    "lenName": 16,
    "lenType": 16,
    "lenVar": 40
   },
   "kernels_config": {
    "python": {
     "delete_cmd_postfix": "",
     "delete_cmd_prefix": "del ",
     "library": "var_list.py",
     "varRefreshCmd": "print(var_dic_list())"
    },
    "r": {
     "delete_cmd_postfix": ") ",
     "delete_cmd_prefix": "rm(",
     "library": "var_list.r",
     "varRefreshCmd": "cat(var_dic_list()) "
    }
   },
   "types_to_exclude": [
    "module",
    "function",
    "builtin_function_or_method",
    "instance",
    "_Feature"
   ],
   "window_display": false
  }
 },
 "nbformat": 4,
 "nbformat_minor": 5
}
