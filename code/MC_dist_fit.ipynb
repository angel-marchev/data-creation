{
 "cells": [
  {
   "cell_type": "markdown",
   "id": "8409624f",
   "metadata": {
    "toc": true
   },
   "source": [
    "<h1>Table of Contents<span class=\"tocSkip\"></span></h1>\n",
    "<div class=\"toc\"><ul class=\"toc-item\"></ul></div>"
   ]
  },
  {
   "cell_type": "code",
   "execution_count": 13,
   "id": "668986d0",
   "metadata": {
    "ExecuteTime": {
     "end_time": "2024-04-21T11:05:16.045111Z",
     "start_time": "2024-04-21T11:05:16.042679Z"
    }
   },
   "outputs": [],
   "source": [
    "#!pip install fitter"
   ]
  },
  {
   "cell_type": "code",
   "execution_count": 1,
   "id": "2aad9068",
   "metadata": {
    "ExecuteTime": {
     "end_time": "2024-05-01T13:21:48.276202Z",
     "start_time": "2024-05-01T13:21:46.375189Z"
    }
   },
   "outputs": [],
   "source": [
    "import random\n",
    "import numpy as np\n",
    "import seaborn as sns\n",
    "from fitter import Fitter, get_common_distributions, get_distributions"
   ]
  },
  {
   "cell_type": "code",
   "execution_count": 2,
   "id": "acbe97ea",
   "metadata": {
    "ExecuteTime": {
     "end_time": "2024-05-01T13:21:49.396392Z",
     "start_time": "2024-05-01T13:21:49.393458Z"
    }
   },
   "outputs": [],
   "source": [
    "# Define the inputs and their probability distributions\n",
    "inputs = {\"input_1\": {\"mean\": 10, \"std_dev\": 2},\n",
    "          \"input_2\": {\"mean\": 20, \"std_dev\": 3}}"
   ]
  },
  {
   "cell_type": "code",
   "execution_count": 3,
   "id": "0c6851e6",
   "metadata": {
    "ExecuteTime": {
     "end_time": "2024-05-01T13:21:51.615624Z",
     "start_time": "2024-05-01T13:21:51.613263Z"
    }
   },
   "outputs": [],
   "source": [
    "# Number of iterations\n",
    "num_iterations = 1000\n",
    "\n",
    "# Storage for simulation results\n",
    "results = []"
   ]
  },
  {
   "cell_type": "code",
   "execution_count": 4,
   "id": "841140a4",
   "metadata": {
    "ExecuteTime": {
     "end_time": "2024-05-01T13:21:52.948872Z",
     "start_time": "2024-05-01T13:21:52.944411Z"
    }
   },
   "outputs": [],
   "source": [
    "# Run the simulation\n",
    "for i in range(num_iterations):\n",
    "    # Generate random values for each input based on its distribution\n",
    "    input_1 = np.random.normal(inputs[\"input_1\"][\"mean\"], inputs[\"input_1\"][\"std_dev\"])\n",
    "    input_2 = np.random.normal(inputs[\"input_2\"][\"mean\"], inputs[\"input_2\"][\"std_dev\"])\n",
    "\n",
    "    # Calculate the output of the model\n",
    "    output = input_1**2 +input_1*input_2+ input_2**2\n",
    "\n",
    "    # Store the result\n",
    "    results.append(output)"
   ]
  },
  {
   "cell_type": "code",
   "execution_count": 5,
   "id": "fb7799e5",
   "metadata": {
    "ExecuteTime": {
     "end_time": "2024-05-01T13:21:54.299059Z",
     "start_time": "2024-05-01T13:21:54.291665Z"
    }
   },
   "outputs": [],
   "source": [
    "# Analyze the results\n",
    "mean_result = np.mean(results)\n",
    "std_dev_result = np.std(results)"
   ]
  },
  {
   "cell_type": "code",
   "execution_count": 6,
   "id": "20e10ada",
   "metadata": {
    "ExecuteTime": {
     "end_time": "2024-05-01T13:21:55.924852Z",
     "start_time": "2024-05-01T13:21:55.551361Z"
    }
   },
   "outputs": [
    {
     "name": "stdout",
     "output_type": "stream",
     "text": [
      "Mean result:  717.2310656965162\n",
      "Standard deviation of result:  170.11285061019177\n"
     ]
    },
    {
     "data": {
      "image/png": "[encoded data removed]",
      "text/plain": [
       "<Figure size 750x500 with 1 Axes>"
      ]
     },
     "metadata": {},
     "output_type": "display_data"
    }
   ],
   "source": [
    "# Visualize the results\n",
    "sns.set_style('white')\n",
    "sns.set_context(\"paper\", font_scale = 2)\n",
    "\n",
    "sns.displot(data=results, x=results, kind=\"hist\", bins = 100, aspect = 1.5)\n",
    "\n",
    "# Print the results\n",
    "print(\"Mean result: \", mean_result)\n",
    "print(\"Standard deviation of result: \", std_dev_result)"
   ]
  },
  {
   "cell_type": "code",
   "execution_count": 7,
   "id": "d2250dd5",
   "metadata": {
    "ExecuteTime": {
     "end_time": "2024-05-01T13:26:33.470859Z",
     "start_time": "2024-05-01T13:22:14.267348Z"
    }
   },
   "outputs": [
    {
     "name": "stderr",
     "output_type": "stream",
     "text": [
      "Fitting 109 distributions:   0%|                        | 0/109 [00:00<?, ?it/s]SKIPPED _fit distribution (taking more than 60 seconds)\n",
      "Fitting 109 distributions:  26%|███▊           | 28/109 [00:04<00:32,  2.50it/s]/home/junior/anaconda3/lib/python3.9/site-packages/scipy/stats/_continuous_distns.py:3405: IntegrationWarning: The algorithm does not converge.  Roundoff error is detected\n",
      "  in the extrapolation table.  It is assumed that the requested tolerance\n",
      "  cannot be achieved, and that the returned result (if full_output = 1) is \n",
      "  the best which can be obtained.\n",
      "  t1 = integrate.quad(llc, -np.inf, x)[0]\n",
      "Fitting 109 distributions:  45%|██████▋        | 49/109 [00:07<00:08,  6.78it/s]SKIPPED kstwo distribution (taking more than 60 seconds)\n",
      "Fitting 109 distributions:  62%|█████████▎     | 68/109 [01:04<02:36,  3.82s/it]SKIPPED kappa4 distribution (taking more than 60 seconds)\n",
      "Fitting 109 distributions:  63%|█████████▍     | 69/109 [01:07<02:19,  3.50s/it]SKIPPED levy_stable distribution (taking more than 60 seconds)\n",
      "Fitting 109 distributions:  72%|██████████▋    | 78/109 [01:46<02:47,  5.39s/it]SKIPPED ncf distribution (taking more than 60 seconds)\n",
      "Fitting 109 distributions:  72%|██████████▊    | 79/109 [01:56<03:24,  6.82s/it]SKIPPED nct distribution (taking more than 60 seconds)\n",
      "Fitting 109 distributions:  73%|███████████    | 80/109 [02:04<03:24,  7.05s/it]SKIPPED ncx2 distribution (taking more than 60 seconds)\n",
      "Fitting 109 distributions:  74%|███████████▏   | 81/109 [02:05<02:26,  5.25s/it]SKIPPED rv_continuous distribution (taking more than 60 seconds)\n",
      "SKIPPED rv_histogram distribution (taking more than 60 seconds)\n",
      "SKIPPED norminvgauss distribution (taking more than 60 seconds)\n",
      "Fitting 109 distributions:  77%|███████████▌   | 84/109 [02:07<01:08,  2.72s/it]SKIPPED pearson3 distribution (taking more than 60 seconds)\n",
      "Fitting 109 distributions:  78%|███████████▋   | 85/109 [02:08<00:58,  2.44s/it]SKIPPED powerlognorm distribution (taking more than 60 seconds)\n",
      "Fitting 109 distributions:  81%|████████████   | 88/109 [02:25<01:25,  4.07s/it]/home/junior/anaconda3/lib/python3.9/site-packages/scipy/integrate/_quadpack_py.py:1151: IntegrationWarning: The maximum number of subdivisions (50) has been achieved.\n",
      "  If increasing the limit yields no improvement it is advised to analyze \n",
      "  the integrand in order to determine the difficulties.  If the position of a \n",
      "  local difficulty can be determined (singularity, discontinuity) one will \n",
      "  probably gain from splitting up the interval and calling the integrator \n",
      "  on the subranges.  Perhaps a special-purpose integrator should be used.\n",
      "  quad_r = quad(f, low, high, args=args, full_output=self.full_output,\n",
      "Fitting 109 distributions:  83%|████████████▌  | 91/109 [02:45<01:35,  5.28s/it]SKIPPED recipinvgauss distribution (taking more than 60 seconds)\n",
      "Fitting 109 distributions:  84%|████████████▋  | 92/109 [02:47<01:11,  4.23s/it]/home/junior/anaconda3/lib/python3.9/site-packages/scipy/integrate/_quadpack_py.py:1151: IntegrationWarning: The integral is probably divergent, or slowly convergent.\n",
      "  quad_r = quad(f, low, high, args=args, full_output=self.full_output,\n",
      "Fitting 109 distributions:  89%|█████████████▎ | 97/109 [03:07<00:48,  4.06s/it]SKIPPED studentized_range distribution (taking more than 60 seconds)\n",
      "Fitting 109 distributions:  91%|█████████████▌ | 99/109 [03:14<00:35,  3.55s/it]SKIPPED t distribution (taking more than 60 seconds)\n",
      "Fitting 109 distributions:  94%|█████████████▏| 103/109 [03:42<00:36,  6.07s/it]SKIPPED triang distribution (taking more than 60 seconds)\n",
      "Fitting 109 distributions:  95%|█████████████▎| 104/109 [03:43<00:23,  4.68s/it]SKIPPED truncweibull_min distribution (taking more than 60 seconds)\n",
      "Fitting 109 distributions:  97%|█████████████▌| 106/109 [03:58<00:18,  6.15s/it]SKIPPED vonmises distribution (taking more than 60 seconds)\n",
      "Fitting 109 distributions:  98%|█████████████▋| 107/109 [04:02<00:10,  5.39s/it]SKIPPED vonmises_line distribution (taking more than 60 seconds)\n",
      "Fitting 109 distributions:  99%|█████████████▊| 108/109 [04:07<00:05,  5.32s/it]SKIPPED weibull_max distribution (taking more than 60 seconds)\n",
      "Fitting 109 distributions: 100%|██████████████| 109/109 [04:14<00:00,  2.34s/it]\n"
     ]
    },
    {
     "data": {
      "text/html": [
       "<div>\n",
       "<style scoped>\n",
       "    .dataframe tbody tr th:only-of-type {\n",
       "        vertical-align: middle;\n",
       "    }\n",
       "\n",
       "    .dataframe tbody tr th {\n",
       "        vertical-align: top;\n",
       "    }\n",
       "\n",
       "    .dataframe thead th {\n",
       "        text-align: right;\n",
       "    }\n",
       "</style>\n",
       "<table border=\"1\" class=\"dataframe\">\n",
       "  <thead>\n",
       "    <tr style=\"text-align: right;\">\n",
       "      <th></th>\n",
       "      <th>sumsquare_error</th>\n",
       "      <th>aic</th>\n",
       "      <th>bic</th>\n",
       "      <th>kl_div</th>\n",
       "      <th>ks_statistic</th>\n",
       "      <th>ks_pvalue</th>\n",
       "    </tr>\n",
       "  </thead>\n",
       "  <tbody>\n",
       "    <tr>\n",
       "      <th>skewnorm</th>\n",
       "      <td>8.260124e-07</td>\n",
       "      <td>861.272949</td>\n",
       "      <td>-20893.688009</td>\n",
       "      <td>inf</td>\n",
       "      <td>0.012299</td>\n",
       "      <td>9.977471e-01</td>\n",
       "    </tr>\n",
       "    <tr>\n",
       "      <th>fatiguelife</th>\n",
       "      <td>8.277218e-07</td>\n",
       "      <td>863.573472</td>\n",
       "      <td>-20891.620731</td>\n",
       "      <td>inf</td>\n",
       "      <td>0.012033</td>\n",
       "      <td>9.983797e-01</td>\n",
       "    </tr>\n",
       "    <tr>\n",
       "      <th>invgamma</th>\n",
       "      <td>8.287930e-07</td>\n",
       "      <td>856.557918</td>\n",
       "      <td>-20890.327385</td>\n",
       "      <td>inf</td>\n",
       "      <td>0.012179</td>\n",
       "      <td>9.980529e-01</td>\n",
       "    </tr>\n",
       "    <tr>\n",
       "      <th>genhyperbolic</th>\n",
       "      <td>8.305788e-07</td>\n",
       "      <td>857.387016</td>\n",
       "      <td>-20874.359583</td>\n",
       "      <td>inf</td>\n",
       "      <td>0.122731</td>\n",
       "      <td>1.382110e-13</td>\n",
       "    </tr>\n",
       "    <tr>\n",
       "      <th>alpha</th>\n",
       "      <td>8.306096e-07</td>\n",
       "      <td>855.218029</td>\n",
       "      <td>-20888.137940</td>\n",
       "      <td>inf</td>\n",
       "      <td>0.016867</td>\n",
       "      <td>9.338545e-01</td>\n",
       "    </tr>\n",
       "  </tbody>\n",
       "</table>\n",
       "</div>"
      ],
      "text/plain": [
       "               sumsquare_error         aic           bic  kl_div  \\\n",
       "skewnorm          8.260124e-07  861.272949 -20893.688009     inf   \n",
       "fatiguelife       8.277218e-07  863.573472 -20891.620731     inf   \n",
       "invgamma          8.287930e-07  856.557918 -20890.327385     inf   \n",
       "genhyperbolic     8.305788e-07  857.387016 -20874.359583     inf   \n",
       "alpha             8.306096e-07  855.218029 -20888.137940     inf   \n",
       "\n",
       "               ks_statistic     ks_pvalue  \n",
       "skewnorm           0.012299  9.977471e-01  \n",
       "fatiguelife        0.012033  9.983797e-01  \n",
       "invgamma           0.012179  9.980529e-01  \n",
       "genhyperbolic      0.122731  1.382110e-13  \n",
       "alpha              0.016867  9.338545e-01  "
      ]
     },
     "execution_count": 7,
     "metadata": {},
     "output_type": "execute_result"
    }
   ],
   "source": [
    "f = Fitter(results,distributions=get_distributions(),timeout=60,bins=50)#,xmin=0.1, xmax=1 ) \n",
    "#get_common_distributions() ##['gamma','lognorm',\"beta\",\"burr\",\"norm\"]\n",
    "f.fit()\n",
    "\n",
    "f.summary()"
   ]
  },
  {
   "cell_type": "code",
   "execution_count": 11,
   "id": "cb9e38b1",
   "metadata": {
    "ExecuteTime": {
     "end_time": "2023-07-16T21:20:49.146419Z",
     "start_time": "2023-07-16T21:20:48.985764Z"
    }
   },
   "outputs": [
    {
     "data": {
      "text/plain": [
       "{'powernorm': {'c': 0.17991120337774258,\n",
       "  'loc': 514.1173194334983,\n",
       "  'scale': 93.54968282371107}}"
      ]
     },
     "execution_count": 11,
     "metadata": {},
     "output_type": "execute_result"
    }
   ],
   "source": [
    "best_m=f.get_best(method = 'sumsquare_error')\n",
    "best_m"
   ]
  },
  {
   "cell_type": "code",
   "execution_count": 14,
   "id": "62016521",
   "metadata": {
    "ExecuteTime": {
     "end_time": "2023-07-16T21:22:17.839189Z",
     "start_time": "2023-07-16T21:22:17.726272Z"
    }
   },
   "outputs": [
    {
     "data": {
      "text/plain": [
       "(713.422816844768, 170.68650037589848)"
      ]
     },
     "execution_count": 14,
     "metadata": {},
     "output_type": "execute_result"
    }
   ],
   "source": [
    "f.fitted_param['norm']"
   ]
  },
  {
   "cell_type": "code",
   "execution_count": 15,
   "id": "5b727d38",
   "metadata": {
    "ExecuteTime": {
     "end_time": "2023-07-16T21:23:03.151092Z",
     "start_time": "2023-07-16T21:22:32.101575Z"
    }
   },
   "outputs": [
    {
     "name": "stderr",
     "output_type": "stream",
     "text": [
      "Fitting 10 distributions:  70%|████████████▌     | 7/10 [00:08<00:05,  1.89s/it]SKIPPED exponpow distribution (taking more than 30 seconds)\n",
      "Fitting 10 distributions:  80%|██████████████▍   | 8/10 [00:30<00:16,  8.10s/it]SKIPPED chi2 distribution (taking more than 30 seconds)\n",
      "SKIPPED lognorm distribution (taking more than 30 seconds)\n",
      "Fitting 10 distributions: 100%|█████████████████| 10/10 [00:30<00:00,  3.03s/it]\n"
     ]
    },
    {
     "data": {
      "text/html": [
       "<div>\n",
       "<style scoped>\n",
       "    .dataframe tbody tr th:only-of-type {\n",
       "        vertical-align: middle;\n",
       "    }\n",
       "\n",
       "    .dataframe tbody tr th {\n",
       "        vertical-align: top;\n",
       "    }\n",
       "\n",
       "    .dataframe thead th {\n",
       "        text-align: right;\n",
       "    }\n",
       "</style>\n",
       "<table border=\"1\" class=\"dataframe\">\n",
       "  <thead>\n",
       "    <tr style=\"text-align: right;\">\n",
       "      <th></th>\n",
       "      <th>sumsquare_error</th>\n",
       "      <th>aic</th>\n",
       "      <th>bic</th>\n",
       "      <th>kl_div</th>\n",
       "      <th>ks_statistic</th>\n",
       "      <th>ks_pvalue</th>\n",
       "    </tr>\n",
       "  </thead>\n",
       "  <tbody>\n",
       "    <tr>\n",
       "      <th>gamma</th>\n",
       "      <td>8.171977e-08</td>\n",
       "      <td>871.564498</td>\n",
       "      <td>-255275.471139</td>\n",
       "      <td>inf</td>\n",
       "      <td>0.005633</td>\n",
       "      <td>9.070044e-01</td>\n",
       "    </tr>\n",
       "    <tr>\n",
       "      <th>norm</th>\n",
       "      <td>4.178742e-07</td>\n",
       "      <td>894.426263</td>\n",
       "      <td>-238965.838177</td>\n",
       "      <td>inf</td>\n",
       "      <td>0.022637</td>\n",
       "      <td>6.965522e-05</td>\n",
       "    </tr>\n",
       "    <tr>\n",
       "      <th>cauchy</th>\n",
       "      <td>5.139595e-06</td>\n",
       "      <td>806.132892</td>\n",
       "      <td>-213870.345877</td>\n",
       "      <td>inf</td>\n",
       "      <td>0.087516</td>\n",
       "      <td>4.336798e-67</td>\n",
       "    </tr>\n",
       "    <tr>\n",
       "      <th>rayleigh</th>\n",
       "      <td>1.210165e-05</td>\n",
       "      <td>767.405336</td>\n",
       "      <td>-205306.670837</td>\n",
       "      <td>inf</td>\n",
       "      <td>0.189420</td>\n",
       "      <td>1.175245e-314</td>\n",
       "    </tr>\n",
       "    <tr>\n",
       "      <th>uniform</th>\n",
       "      <td>3.434475e-05</td>\n",
       "      <td>724.120839</td>\n",
       "      <td>-194875.596115</td>\n",
       "      <td>inf</td>\n",
       "      <td>0.330853</td>\n",
       "      <td>0.000000e+00</td>\n",
       "    </tr>\n",
       "  </tbody>\n",
       "</table>\n",
       "</div>"
      ],
      "text/plain": [
       "          sumsquare_error         aic            bic  kl_div  ks_statistic  \\\n",
       "gamma        8.171977e-08  871.564498 -255275.471139     inf      0.005633   \n",
       "norm         4.178742e-07  894.426263 -238965.838177     inf      0.022637   \n",
       "cauchy       5.139595e-06  806.132892 -213870.345877     inf      0.087516   \n",
       "rayleigh     1.210165e-05  767.405336 -205306.670837     inf      0.189420   \n",
       "uniform      3.434475e-05  724.120839 -194875.596115     inf      0.330853   \n",
       "\n",
       "              ks_pvalue  \n",
       "gamma      9.070044e-01  \n",
       "norm       6.965522e-05  \n",
       "cauchy     4.336798e-67  \n",
       "rayleigh  1.175245e-314  \n",
       "uniform    0.000000e+00  "
      ]
     },
     "execution_count": 15,
     "metadata": {},
     "output_type": "execute_result"
    }
   ],
   "source": [
    "f = Fitter(results,distributions=get_common_distributions(),bins=50,) \n",
    "#get_common_distributions() ##['gamma','lognorm',\"beta\",\"burr\",\"norm\"]\n",
    "f.fit()\n",
    "\n",
    "f.summary()"
   ]
  },
  {
   "cell_type": "code",
   "execution_count": null,
   "id": "539b7b77",
   "metadata": {},
   "outputs": [],
   "source": []
  }
 ],
 "metadata": {
  "hide_input": false,
  "kernelspec": {
   "display_name": "Python 3 (ipykernel)",
   "language": "python",
   "name": "python3"
  },
  "language_info": {
   "codemirror_mode": {
    "name": "ipython",
    "version": 3
   },
   "file_extension": ".py",
   "mimetype": "text/x-python",
   "name": "python",
   "nbconvert_exporter": "python",
   "pygments_lexer": "ipython3",
   "version": "3.9.13"
  },
  "latex_envs": {
   "LaTeX_envs_menu_present": true,
   "autoclose": false,
   "autocomplete": true,
   "bibliofile": "biblio.bib",
   "cite_by": "apalike",
   "current_citInitial": 1,
   "eqLabelWithNumbers": true,
   "eqNumInitial": 1,
   "hotkeys": {
    "equation": "Ctrl-E",
    "itemize": "Ctrl-I"
   },
   "labels_anchors": false,
   "latex_user_defs": false,
   "report_style_numbering": false,
   "user_envs_cfg": false
  },
  "toc": {
   "base_numbering": 1,
   "nav_menu": {},
   "number_sections": true,
   "sideBar": true,
   "skip_h1_title": true,
   "title_cell": "Table of Contents",
   "title_sidebar": "Contents",
   "toc_cell": true,
   "toc_position": {
    "height": "calc(100% - 180px)",
    "left": "10px",
    "top": "150px",
    "width": "222.193px"
   },
   "toc_section_display": true,
   "toc_window_display": false
  },
  "varInspector": {
   "cols": {
    "lenName": 16,
    "lenType": 16,
    "lenVar": 40
   },
   "kernels_config": {
    "python": {
     "delete_cmd_postfix": "",
     "delete_cmd_prefix": "del ",
     "library": "var_list.py",
     "varRefreshCmd": "print(var_dic_list())"
    },
    "r": {
     "delete_cmd_postfix": ") ",
     "delete_cmd_prefix": "rm(",
     "library": "var_list.r",
     "varRefreshCmd": "cat(var_dic_list()) "
    }
   },
   "types_to_exclude": [
    "module",
    "function",
    "builtin_function_or_method",
    "instance",
    "_Feature"
   ],
   "window_display": false
  }
 },
 "nbformat": 4,
 "nbformat_minor": 5
}
