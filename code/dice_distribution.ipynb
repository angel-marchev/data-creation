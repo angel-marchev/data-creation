{
 "cells": [
  {
   "cell_type": "code",
   "execution_count": 1,
   "id": "872294f7",
   "metadata": {
    "ExecuteTime": {
     "end_time": "2024-04-21T11:06:10.001009Z",
     "start_time": "2024-04-21T11:06:09.675142Z"
    }
   },
   "outputs": [],
   "source": [
    "%reset -f\n",
    "import matplotlib.pyplot as plt\n",
    "import numpy as np"
   ]
  },
  {
   "cell_type": "code",
   "execution_count": 20,
   "id": "9dd871eb",
   "metadata": {
    "ExecuteTime": {
     "end_time": "2024-04-21T11:12:24.539963Z",
     "start_time": "2024-04-21T11:12:19.969244Z"
    }
   },
   "outputs": [
    {
     "name": "stdout",
     "output_type": "stream",
     "text": [
      "Enter the number of dice: 2\n",
      "Enter the number of sides for die 1: 6\n",
      "Enter the number of sides for die 2: 6\n"
     ]
    }
   ],
   "source": [
    "# Get user input for number of dice and number of sides\n",
    "n_dice = int(input(\"Enter the number of dice: \"))\n",
    "sides = []\n",
    "for i in range(n_dice):\n",
    "    sides.append(int(input(f\"Enter the number of sides for die {i+1}: \")))"
   ]
  },
  {
   "cell_type": "code",
   "execution_count": 21,
   "id": "4fa69771",
   "metadata": {
    "ExecuteTime": {
     "end_time": "2024-04-21T11:12:27.960160Z",
     "start_time": "2024-04-21T11:12:27.957715Z"
    }
   },
   "outputs": [],
   "source": [
    "# Calculate the total number of possible outcomes\n",
    "n_outcomes = np.prod(sides)"
   ]
  },
  {
   "cell_type": "code",
   "execution_count": 22,
   "id": "bfd217d5",
   "metadata": {
    "ExecuteTime": {
     "end_time": "2024-04-21T11:12:28.780931Z",
     "start_time": "2024-04-21T11:12:28.778093Z"
    }
   },
   "outputs": [],
   "source": [
    "# Initialize an empty array to store the probabilities\n",
    "probabilities = np.zeros((np.sum(sides) - n_dice + 1,))"
   ]
  },
  {
   "cell_type": "code",
   "execution_count": 23,
   "id": "b1d9c52a",
   "metadata": {
    "ExecuteTime": {
     "end_time": "2024-04-21T11:12:29.487155Z",
     "start_time": "2024-04-21T11:12:29.483772Z"
    }
   },
   "outputs": [],
   "source": [
    "# Calculate the probability of each possible outcome\n",
    "dice_values = [0] * n_dice\n",
    "for i in range(n_outcomes):\n",
    "    outcome = sum(dice_values) + n_dice  # Add n_dice to get the outcome value (between n_dice and n_dice * sum(sides))\n",
    "    probabilities[outcome - n_dice] += 1 / n_outcomes  # Increment the probability of the corresponding outcome\n",
    "    # Increment dice values for next iteration\n",
    "    for j in range(n_dice):\n",
    "        dice_values[j] += 1\n",
    "        if dice_values[j] < sides[j]:\n",
    "            break\n",
    "        dice_values[j] = 0"
   ]
  },
  {
   "cell_type": "code",
   "execution_count": 24,
   "id": "edc76e2d",
   "metadata": {
    "ExecuteTime": {
     "end_time": "2024-04-21T11:12:30.604379Z",
     "start_time": "2024-04-21T11:12:30.368571Z"
    },
    "run_control": {
     "marked": true
    }
   },
   "outputs": [
    {
     "data": {
      "text/plain": [
       "<BarContainer object of 11 artists>"
      ]
     },
     "execution_count": 24,
     "metadata": {},
     "output_type": "execute_result"
    },
    {
     "data": {
      "image/png": "[encoded data removed]",
      "text/plain": [
       "<Figure size 640x480 with 1 Axes>"
      ]
     },
     "metadata": {},
     "output_type": "display_data"
    }
   ],
   "source": [
    "# Plot the joint distribution as a bar chart\n",
    "fig, ax = plt.subplots()\n",
    "x = np.arange(n_dice,  sum(sides)+1 )\n",
    "ax.bar(x, probabilities)"
   ]
  },
  {
   "cell_type": "code",
   "execution_count": null,
   "id": "5f4f98fa",
   "metadata": {},
   "outputs": [],
   "source": []
  }
 ],
 "metadata": {
  "hide_input": false,
  "kernelspec": {
   "display_name": "Python 3 (ipykernel)",
   "language": "python",
   "name": "python3"
  },
  "language_info": {
   "codemirror_mode": {
    "name": "ipython",
    "version": 3
   },
   "file_extension": ".py",
   "mimetype": "text/x-python",
   "name": "python",
   "nbconvert_exporter": "python",
   "pygments_lexer": "ipython3",
   "version": "3.9.13"
  },
  "latex_envs": {
   "LaTeX_envs_menu_present": true,
   "autoclose": false,
   "autocomplete": true,
   "bibliofile": "biblio.bib",
   "cite_by": "apalike",
   "current_citInitial": 1,
   "eqLabelWithNumbers": true,
   "eqNumInitial": 1,
   "hotkeys": {
    "equation": "Ctrl-E",
    "itemize": "Ctrl-I"
   },
   "labels_anchors": false,
   "latex_user_defs": false,
   "report_style_numbering": false,
   "user_envs_cfg": false
  },
  "toc": {
   "base_numbering": 1,
   "nav_menu": {},
   "number_sections": true,
   "sideBar": true,
   "skip_h1_title": true,
   "title_cell": "Table of Contents",
   "title_sidebar": "Contents",
   "toc_cell": true,
   "toc_position": {},
   "toc_section_display": true,
   "toc_window_display": false
  },
  "varInspector": {
   "cols": {
    "lenName": 16,
    "lenType": 16,
    "lenVar": 40
   },
   "kernels_config": {
    "python": {
     "delete_cmd_postfix": "",
     "delete_cmd_prefix": "del ",
     "library": "var_list.py",
     "varRefreshCmd": "print(var_dic_list())"
    },
    "r": {
     "delete_cmd_postfix": ") ",
     "delete_cmd_prefix": "rm(",
     "library": "var_list.r",
     "varRefreshCmd": "cat(var_dic_list()) "
    }
   },
   "types_to_exclude": [
    "module",
    "function",
    "builtin_function_or_method",
    "instance",
    "_Feature"
   ],
   "window_display": false
  }
 },
 "nbformat": 4,
 "nbformat_minor": 5
}
