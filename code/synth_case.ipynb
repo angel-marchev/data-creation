{
 "cells": [
  {
   "cell_type": "code",
   "execution_count": 7,
   "id": "cf57319d",
   "metadata": {
    "ExecuteTime": {
     "end_time": "2023-03-20T23:44:18.858699Z",
     "start_time": "2023-03-20T23:44:18.848597Z"
    }
   },
   "outputs": [],
   "source": [
    "dists = {\n",
    "    'sex':{'labels':['M', 'F'], 'values':[0.4854368932,0.5145631068]},\n",
    "    'lv_educ':{'labels':['Incomplete', 'Primary', 'Basic', 'Secondary', 'Higher'], 'values':[0.0595,0.07788016474,0.2309254283,0.4359496722,0.1957067711]},\n",
    "    'empl_stat':{'labels':['Employers', 'Self-employed', 'Employed in private sector', 'Employed in public sector', 'Unpaid family workers'], 'values':[0.03631598652,0.07272557095,0.6708785723,0.2126544365,0.00742543367]},\n",
    "    'marit_stat':{'labels':['Single', 'Married', 'Divorced', 'Widowed'], 'values':[0.397,0.443,0.058,0.102]},\n",
    "    'house_memb':{'labels':['1', '2', '3', '4', '5', '6', '7+'], 'values':[0.1805,0.3778,0.2387,0.1157,0.0525,0.0238,0.011]},\n",
    "    'chil_u_18_y':{'labels':['No children under 18', 'One child under 18', 'Two children under 18', 'Three children under 18', 'Four children under 18', 'Five children under 18', 'Six or more children under 18'], 'values':[0.422602157,0.36552047,0.183222339,0.020674764,0.004993779,0.001875149,0.001111341]},\n",
    "    'nation':{'labels':['Bulgaria', 'EU', 'Other'], 'values':[0.9950198043,0.001146570676,0.003833625045]},\n",
    "    'religion':{'labels':['Protestant', 'Catholic', 'Orthodox', 'Muslim', 'Other', 'No religion', 'I do not identify myself'], 'values':[0.011,0.008,0.76,0.1,0.002,0.047,0.072]},\n",
    "    'soc_econ_stat':{'labels':['Economically active', 'Economically inactive'], 'values':[0.6151643031,0.3848356969]},\n",
    "    'prof_ind':{'labels':['Agriculture, forestry and fisheries', 'Mining and processing industry', 'Utilities (electricity distribution and water supply)', 'Construction', 'Trade, automobile and motorcycle repair', 'Transportation, warehousing and mail', 'Hospitality and restaurant services', 'Creation and distribution of information and creative products', 'Telecommunications', 'Financial and administrative activities', 'Public administration', 'Education and research', 'Human health and social work', 'Other activities'], 'values':[0.03090815115,0.2353,0.029,0.05523651408,0.1645618594,0.06439111505,0.05161626582,0.03936261795,0.07356911161,0.04836124844,0.104946474,0.06006423384,0.04269692032]},\n",
    "    'prof_stat':{'labels':['Management contract', 'Employment contract', 'Civil contract', 'Self-employed', 'Unemployed', 'Pensioner'], 'values':[0.01783393631,0.4732428049,0.02497602302,0.0385148509,0.167699009,0.277733376]},\n",
    "    'count_house':{'labels':['0', '1', '2+'], 'values':[0.37,0.6,0.03]},\n",
    "    'own_field':{'labels':['YES', 'NO'], 'values':[0.184481059,0.2621335023,0.5533854387]},\n",
    "    'num_car_house':{'labels':['0', '1', '2', '3+'], 'values':[0.5714285714,0.36,0.06428571429,0.004285714286]},\n",
    "    'own_rent_house':{'labels':['my own', 'rented'], 'values':[0.843,0.157]},\n",
    "    'edu':{'labels':['Educational Sciences', 'Humanities', 'Social, Economic and Legal Sciences', 'Natural Sciences, Mathematics and Informatics', 'Technical Sciences', 'Agricultural Sciences and Veterinary Medicine', 'Health and Sports', 'Arts', 'Security and Defense'], 'values':[0.07591254907,0.0461889827,0.5266633332,0.04571641724,0.1533297557,0.01776640163,0.0930038303,0.02247374859,0.01891291637]},\n",
    "    'temp':{'labels':['Choleric', 'Phlegmatic', 'Sanguine', 'Melancholic'], 'values':[0.38,0.11,0.23,0.28]},\n",
    "    'invest_exp':{'labels':['0', '1-5', '6-10', '11-15', '16-25'], 'values':[0.7,0.2,0.06,0.03,0.01]},\n",
    "    'shares':{'labels':['YES', 'NO'], 'values':[0.003394353314,0.9966056467]},\n",
    "    'corp_oblig':{'labels':['YES', 'NO'], 'values':[0.0003792213936,0.9996207786]},\n",
    "    'oth':{'labels':['YES', 'NO'], 'values':[0.000592597502012084,0.999407402497988]},\n",
    "    'inv_fund':{'labels':['YES', 'NO'], 'values':[0.06491199709,0.9350880029]},\n",
    "    'cash':{'labels':['YES', 'NO'], 'values':[0.04105169923,0.9589483008]},\n",
    "    'crypto':{'labels':['YES', 'NO'], 'values':[0.003284135938,0.9967158641]},\n",
    "    'gov_bond':{'labels':['YES', 'NO'], 'values':[0.06835666691,0.9316433331]},\n",
    "    'deposits':{'labels':['YES', 'NO'], 'values':[0.8180293286,0.1819706714]},\n",
    "    'banking':{'labels':['Online', 'Offline'], 'values':[0.09,0.91]},\n",
    "    'bk_oprat':{'labels':['Up to 7', 'From 8 to 10', 'From 11 to 13', 'From 14 to 18', 'From 19 to more'], 'values':[0.0084,0.2424,0.4729,0.2615,0.0148]},\n",
    "    'bk_dc':{'labels':['Under one', 'One', 'Two', 'Three'], 'values':[0.01,0.57,0.38,0.04]},\n",
    "    'bk_cc':{'labels':['YES', 'NO'], 'values':[0.17,0.83]},\n",
    "    'bk_acc':{'labels':['YES', 'NO'], 'values':[0.8634087377,0.1365912623]},\n",
    "    'ins_prop':{'labels':['YES', 'NO'], 'values':[0.05,0.95]},\n",
    "    'ins_life':{'labels':['YES', 'NO'], 'values':[0.09,0.91]},\n",
    "    'ins_casco':{'labels':['YES', 'NO'], 'values':[0.03,0.97]},\n",
    "    'health_ins':{'labels':['YES', 'NO'], 'values':[0.02,0.98]},\n",
    "    'overdraft':{'labels':['YES', 'NO'], 'values':[0.19,0.81]},\n",
    "    'cons_cred':{'labels':['YES', 'NO'], 'values':[0.26,0.74]},\n",
    "    'mortgage':{'labels':['YES', 'NO'], 'values':[0.02,0.98]},\n",
    "    'car_leas':{'labels':['YES', 'NO'], 'values':[0.2,0.8]},\n",
    "    'pens_ins':{'labels':['YES', 'NO'], 'values':[0.11,0.89]},\n",
    "    'overdraft_app':{'labels':['YES', 'NO'], 'values':[0.2439,0.7561]},\n",
    "    'cons_cred_app':{'labels':['YES', 'NO'], 'values':[0.305299502487562,0.694700497512438]},\n",
    "    'mortgage_app':{'labels':['YES', 'NO'], 'values':[0.03,0.97]},\n",
    "    'bk_cc_app':{'labels':['YES', 'NO'], 'values':[0.21,0.79]}\n",
    "}"
   ]
  },
  {
   "cell_type": "code",
   "execution_count": 13,
   "id": "16943827",
   "metadata": {
    "ExecuteTime": {
     "end_time": "2023-03-20T23:49:36.793087Z",
     "start_time": "2023-03-20T23:49:36.691002Z"
    }
   },
   "outputs": [],
   "source": [
    "import pandas as pd"
   ]
  },
  {
   "cell_type": "code",
   "execution_count": 50,
   "id": "3a03cdf2",
   "metadata": {
    "ExecuteTime": {
     "end_time": "2023-03-21T00:17:11.018679Z",
     "start_time": "2023-03-21T00:17:11.014288Z"
    }
   },
   "outputs": [],
   "source": [
    "x = 'bk_oprat'"
   ]
  },
  {
   "cell_type": "code",
   "execution_count": 51,
   "id": "b3d53958",
   "metadata": {
    "ExecuteTime": {
     "end_time": "2023-03-21T00:17:12.667533Z",
     "start_time": "2023-03-21T00:17:12.660890Z"
    }
   },
   "outputs": [],
   "source": [
    "def extract_dists(x,dists):\n",
    "    import pandas as pd\n",
    "    '''\n",
    "    A function to extract distributions from the dictionary dists,where:\n",
    "    x is the name of the feature to extract\n",
    "    dists is the dictionary with all distributions\n",
    "    '''\n",
    "    column_names = dists[x]['labels']\n",
    "    values = [dists[x]['values']]\n",
    "    pd_df = pd.DataFrame(data=values, columns=column_names)\n",
    "    pd_df.index = pd.Index([x])\n",
    "    return pd_df"
   ]
  },
  {
   "cell_type": "code",
   "execution_count": 52,
   "id": "017a4db3",
   "metadata": {
    "ExecuteTime": {
     "end_time": "2023-03-21T00:17:13.951313Z",
     "start_time": "2023-03-21T00:17:13.926659Z"
    }
   },
   "outputs": [
    {
     "data": {
      "text/html": [
       "<div>\n",
       "<style scoped>\n",
       "    .dataframe tbody tr th:only-of-type {\n",
       "        vertical-align: middle;\n",
       "    }\n",
       "\n",
       "    .dataframe tbody tr th {\n",
       "        vertical-align: top;\n",
       "    }\n",
       "\n",
       "    .dataframe thead th {\n",
       "        text-align: right;\n",
       "    }\n",
       "</style>\n",
       "<table border=\"1\" class=\"dataframe\">\n",
       "  <thead>\n",
       "    <tr style=\"text-align: right;\">\n",
       "      <th></th>\n",
       "      <th>Up to 7</th>\n",
       "      <th>From 8 to 10</th>\n",
       "      <th>From 11 to 13</th>\n",
       "      <th>From 14 to 18</th>\n",
       "      <th>From 19 to more</th>\n",
       "    </tr>\n",
       "  </thead>\n",
       "  <tbody>\n",
       "    <tr>\n",
       "      <th>bk_oprat</th>\n",
       "      <td>0.0084</td>\n",
       "      <td>0.2424</td>\n",
       "      <td>0.4729</td>\n",
       "      <td>0.2615</td>\n",
       "      <td>0.0148</td>\n",
       "    </tr>\n",
       "  </tbody>\n",
       "</table>\n",
       "</div>"
      ],
      "text/plain": [
       "          Up to 7  From 8 to 10  From 11 to 13  From 14 to 18  From 19 to more\n",
       "bk_oprat   0.0084        0.2424         0.4729         0.2615           0.0148"
      ]
     },
     "execution_count": 52,
     "metadata": {},
     "output_type": "execute_result"
    }
   ],
   "source": [
    "extract_dists(x,dists)"
   ]
  },
  {
   "cell_type": "code",
   "execution_count": null,
   "id": "7a46962f",
   "metadata": {
    "ExecuteTime": {
     "end_time": "2023-03-21T00:31:51.961700Z",
     "start_time": "2023-03-21T00:31:51.925602Z"
    }
   },
   "outputs": [],
   "source": [
    "corr = {\n",
    "    'features': ['age', 'ind_risk', 'income', 'pers_exp', 'house_exp', 'taxes', 'transp_telecom', 'hobby'],\n",
    "    'age': [1, -0.00665947056405372, 0.00291644965339247, 0.0107779942638097, 0.00698674581731255, 0.00729153655132963, 0.0099866509330216, 0.00931630696561133],\n",
    "    'ind_risk': [-0.00665947056405372, 1, 0.0039918072709289, 0.00806259039194059, 0.00457023635440603, 0.0061985340641631, 0.00768699810849585, -0.00332322616613201],\n",
    "    'income': [0.00291644965339247, 0.0039918072709289, 1, 0.560949334881676, 0.58892666343229, 0.581907424628933, 0.562946509689962, 0.352350802339294],\n",
    "    'pers_exp': [0.0107779942638097, 0.00806259039194059, 0.560949334881676, 1, 0.928449923861951, 0.929598634668897, 0.934775947642248, 0.714298364869941],\n",
    "    'house_exp': [0.00698674581731255, 0.00457023635440603, 0.58892666343229, 0.928449923861951, 1, 0.93031279279417, 0.927846735467478, 0.679286362990223],\n",
    "    'taxes': [0.00729153655132963, 0.0061985340641631, 0.581907424628933, 0.929598634668897, 0.93031279279417, 1, 0.92920510128812, 0.689442053350162],\n",
    "    'transp_telecom': [0.0099866509330216, 0.00768699810849585, 0.562946509689962, 0.934775947642248, 0.927846735467478, 0.92920510128812, 1, 0.714114127908189],\n",
    "    'hobby': [0.00931630696561133, -0.00332322616613201, 0.352350802339294, 0.714298364869941, 0.679286362990223, 0.689442053350162, 0.714114127908189, 1]\n",
    "}"
   ]
  },
  {
   "cell_type": "code",
   "execution_count": 60,
   "id": "d4b4966e",
   "metadata": {
    "ExecuteTime": {
     "end_time": "2023-03-21T00:34:51.573890Z",
     "start_time": "2023-03-21T00:34:51.567782Z"
    }
   },
   "outputs": [],
   "source": [
    "def corr2df(corr):\n",
    "    '''\n",
    "    A function to create correlation dataframe from dictionary corr, where\n",
    "    corr is the dictionary with the correlation matrix\n",
    "    '''\n",
    "    import pandas as df\n",
    "    corr_df = pd.DataFrame(corr)\n",
    "    corr_df.set_index('features', inplace=True)\n",
    "    corr_df.index.name=None\n",
    "    return corr_df"
   ]
  },
  {
   "cell_type": "code",
   "execution_count": 63,
   "id": "2a7999bb",
   "metadata": {
    "ExecuteTime": {
     "end_time": "2023-03-21T00:35:39.654504Z",
     "start_time": "2023-03-21T00:35:39.618054Z"
    }
   },
   "outputs": [
    {
     "data": {
      "text/html": [
       "<div>\n",
       "<style scoped>\n",
       "    .dataframe tbody tr th:only-of-type {\n",
       "        vertical-align: middle;\n",
       "    }\n",
       "\n",
       "    .dataframe tbody tr th {\n",
       "        vertical-align: top;\n",
       "    }\n",
       "\n",
       "    .dataframe thead th {\n",
       "        text-align: right;\n",
       "    }\n",
       "</style>\n",
       "<table border=\"1\" class=\"dataframe\">\n",
       "  <thead>\n",
       "    <tr style=\"text-align: right;\">\n",
       "      <th></th>\n",
       "      <th>age</th>\n",
       "      <th>ind_risk</th>\n",
       "      <th>income</th>\n",
       "      <th>pers_exp</th>\n",
       "      <th>house_exp</th>\n",
       "      <th>taxes</th>\n",
       "      <th>transp_telecom</th>\n",
       "      <th>hobby</th>\n",
       "    </tr>\n",
       "  </thead>\n",
       "  <tbody>\n",
       "    <tr>\n",
       "      <th>age</th>\n",
       "      <td>1.000000</td>\n",
       "      <td>-0.006659</td>\n",
       "      <td>0.002916</td>\n",
       "      <td>0.010778</td>\n",
       "      <td>0.006987</td>\n",
       "      <td>0.007292</td>\n",
       "      <td>0.009987</td>\n",
       "      <td>0.009316</td>\n",
       "    </tr>\n",
       "    <tr>\n",
       "      <th>ind_risk</th>\n",
       "      <td>-0.006659</td>\n",
       "      <td>1.000000</td>\n",
       "      <td>0.003992</td>\n",
       "      <td>0.008063</td>\n",
       "      <td>0.004570</td>\n",
       "      <td>0.006199</td>\n",
       "      <td>0.007687</td>\n",
       "      <td>-0.003323</td>\n",
       "    </tr>\n",
       "    <tr>\n",
       "      <th>income</th>\n",
       "      <td>0.002916</td>\n",
       "      <td>0.003992</td>\n",
       "      <td>1.000000</td>\n",
       "      <td>0.560949</td>\n",
       "      <td>0.588927</td>\n",
       "      <td>0.581907</td>\n",
       "      <td>0.562947</td>\n",
       "      <td>0.352351</td>\n",
       "    </tr>\n",
       "    <tr>\n",
       "      <th>pers_exp</th>\n",
       "      <td>0.010778</td>\n",
       "      <td>0.008063</td>\n",
       "      <td>0.560949</td>\n",
       "      <td>1.000000</td>\n",
       "      <td>0.928450</td>\n",
       "      <td>0.929599</td>\n",
       "      <td>0.934776</td>\n",
       "      <td>0.714298</td>\n",
       "    </tr>\n",
       "    <tr>\n",
       "      <th>house_exp</th>\n",
       "      <td>0.006987</td>\n",
       "      <td>0.004570</td>\n",
       "      <td>0.588927</td>\n",
       "      <td>0.928450</td>\n",
       "      <td>1.000000</td>\n",
       "      <td>0.930313</td>\n",
       "      <td>0.927847</td>\n",
       "      <td>0.679286</td>\n",
       "    </tr>\n",
       "    <tr>\n",
       "      <th>taxes</th>\n",
       "      <td>0.007292</td>\n",
       "      <td>0.006199</td>\n",
       "      <td>0.581907</td>\n",
       "      <td>0.929599</td>\n",
       "      <td>0.930313</td>\n",
       "      <td>1.000000</td>\n",
       "      <td>0.929205</td>\n",
       "      <td>0.689442</td>\n",
       "    </tr>\n",
       "    <tr>\n",
       "      <th>transp_telecom</th>\n",
       "      <td>0.009987</td>\n",
       "      <td>0.007687</td>\n",
       "      <td>0.562947</td>\n",
       "      <td>0.934776</td>\n",
       "      <td>0.927847</td>\n",
       "      <td>0.929205</td>\n",
       "      <td>1.000000</td>\n",
       "      <td>0.714114</td>\n",
       "    </tr>\n",
       "    <tr>\n",
       "      <th>hobby</th>\n",
       "      <td>0.009316</td>\n",
       "      <td>-0.003323</td>\n",
       "      <td>0.352351</td>\n",
       "      <td>0.714298</td>\n",
       "      <td>0.679286</td>\n",
       "      <td>0.689442</td>\n",
       "      <td>0.714114</td>\n",
       "      <td>1.000000</td>\n",
       "    </tr>\n",
       "  </tbody>\n",
       "</table>\n",
       "</div>"
      ],
      "text/plain": [
       "                     age  ind_risk    income  pers_exp  house_exp     taxes  \\\n",
       "age             1.000000 -0.006659  0.002916  0.010778   0.006987  0.007292   \n",
       "ind_risk       -0.006659  1.000000  0.003992  0.008063   0.004570  0.006199   \n",
       "income          0.002916  0.003992  1.000000  0.560949   0.588927  0.581907   \n",
       "pers_exp        0.010778  0.008063  0.560949  1.000000   0.928450  0.929599   \n",
       "house_exp       0.006987  0.004570  0.588927  0.928450   1.000000  0.930313   \n",
       "taxes           0.007292  0.006199  0.581907  0.929599   0.930313  1.000000   \n",
       "transp_telecom  0.009987  0.007687  0.562947  0.934776   0.927847  0.929205   \n",
       "hobby           0.009316 -0.003323  0.352351  0.714298   0.679286  0.689442   \n",
       "\n",
       "                transp_telecom     hobby  \n",
       "age                   0.009987  0.009316  \n",
       "ind_risk              0.007687 -0.003323  \n",
       "income                0.562947  0.352351  \n",
       "pers_exp              0.934776  0.714298  \n",
       "house_exp             0.927847  0.679286  \n",
       "taxes                 0.929205  0.689442  \n",
       "transp_telecom        1.000000  0.714114  \n",
       "hobby                 0.714114  1.000000  "
      ]
     },
     "execution_count": 63,
     "metadata": {},
     "output_type": "execute_result"
    }
   ],
   "source": [
    "correlll=corr2df(corr)\n",
    "correlll"
   ]
  }
 ],
 "metadata": {
  "hide_input": false,
  "kernelspec": {
   "display_name": "Python 3 (ipykernel)",
   "language": "python",
   "name": "python3"
  },
  "language_info": {
   "codemirror_mode": {
    "name": "ipython",
    "version": 3
   },
   "file_extension": ".py",
   "mimetype": "text/x-python",
   "name": "python",
   "nbconvert_exporter": "python",
   "pygments_lexer": "ipython3",
   "version": "3.9.13"
  },
  "latex_envs": {
   "LaTeX_envs_menu_present": true,
   "autoclose": false,
   "autocomplete": true,
   "bibliofile": "biblio.bib",
   "cite_by": "apalike",
   "current_citInitial": 1,
   "eqLabelWithNumbers": true,
   "eqNumInitial": 1,
   "hotkeys": {
    "equation": "Ctrl-E",
    "itemize": "Ctrl-I"
   },
   "labels_anchors": false,
   "latex_user_defs": false,
   "report_style_numbering": false,
   "user_envs_cfg": false
  },
  "varInspector": {
   "cols": {
    "lenName": 16,
    "lenType": 16,
    "lenVar": 40
   },
   "kernels_config": {
    "python": {
     "delete_cmd_postfix": "",
     "delete_cmd_prefix": "del ",
     "library": "var_list.py",
     "varRefreshCmd": "print(var_dic_list())"
    },
    "r": {
     "delete_cmd_postfix": ") ",
     "delete_cmd_prefix": "rm(",
     "library": "var_list.r",
     "varRefreshCmd": "cat(var_dic_list()) "
    }
   },
   "types_to_exclude": [
    "module",
    "function",
    "builtin_function_or_method",
    "instance",
    "_Feature"
   ],
   "window_display": false
  }
 },
 "nbformat": 4,
 "nbformat_minor": 5
}
