{
 "cells": [
  {
   "cell_type": "code",
   "execution_count": 11,
   "id": "ad0a5199",
   "metadata": {
    "ExecuteTime": {
     "end_time": "2024-04-20T08:09:40.832063Z",
     "start_time": "2024-04-20T08:09:40.827070Z"
    }
   },
   "outputs": [],
   "source": [
    "import pandas as pd\n",
    "import random\n",
    "import numpy as np"
   ]
  },
  {
   "cell_type": "code",
   "execution_count": 12,
   "id": "d2bbfdff",
   "metadata": {
    "ExecuteTime": {
     "end_time": "2024-04-20T08:09:42.482035Z",
     "start_time": "2024-04-20T08:09:42.469838Z"
    }
   },
   "outputs": [],
   "source": [
    "def levenshtein_distance(s1, s2):\n",
    "    \"\"\"Compute the Levenshtein distance between two strings.\"\"\"\n",
    "    if len(s1) < len(s2):\n",
    "        return levenshtein_distance(s2, s1)\n",
    "\n",
    "    if len(s2) == 0:\n",
    "        return len(s1)\n",
    "\n",
    "    previous_row = range(len(s2) + 1)\n",
    "    for i, c1 in enumerate(s1):\n",
    "        current_row = [i + 1]\n",
    "        for j, c2 in enumerate(s2):\n",
    "            insertions = previous_row[j + 1] + 1\n",
    "            deletions = current_row[j] + 1\n",
    "            substitutions = previous_row[j] + (c1 != c2)\n",
    "            current_row.append(min(insertions, deletions, substitutions))\n",
    "        previous_row = current_row\n",
    "\n",
    "    return previous_row[-1]"
   ]
  },
  {
   "cell_type": "code",
   "execution_count": 13,
   "id": "924e7ba6",
   "metadata": {
    "ExecuteTime": {
     "end_time": "2024-04-20T08:10:00.427989Z",
     "start_time": "2024-04-20T08:10:00.423307Z"
    }
   },
   "outputs": [],
   "source": [
    "def calculate_probability(distance, max_len):\n",
    "    \"\"\"Calculate probability of match based on Levenshtein distance and maximum length of strings.\"\"\"\n",
    "    if max_len == 0:\n",
    "        return 1\n",
    "    return 1 - distance / max_len"
   ]
  },
  {
   "cell_type": "code",
   "execution_count": 14,
   "id": "a6606cde",
   "metadata": {
    "ExecuteTime": {
     "end_time": "2024-04-20T08:10:02.392838Z",
     "start_time": "2024-04-20T08:10:02.379061Z"
    }
   },
   "outputs": [],
   "source": [
    "def prob_con(df1, df2, columns_df1, columns_df2, noise_level=0.01):\n",
    "    results = []\n",
    "    # Precompute maximum lengths for normalization\n",
    "    max_lengths = {col1: max(df1[col1].astype(str).apply(len).max(), df2[col2].astype(str).apply(len).max())\n",
    "                   for col1, col2 in zip(columns_df1, columns_df2)}\n",
    "\n",
    "    # Iterate over each record in df1\n",
    "    for index1, row1 in df1.iterrows():\n",
    "        best_match = None\n",
    "        max_score = 0\n",
    "        # Compare with each record in df2\n",
    "        for index2, row2 in df2.iterrows():\n",
    "            total_prob = 1\n",
    "            # Calculate combined probability over all matching columns\n",
    "            for col1, col2 in zip(columns_df1, columns_df2):\n",
    "                str1 = str(row1[col1])\n",
    "                str2 = str(row2[col2])\n",
    "                distance = levenshtein_distance(str1, str2)\n",
    "                prob = calculate_probability(distance, max_lengths[col1])\n",
    "                total_prob *= prob\n",
    "            # Add noise to the total probability\n",
    "            noisy_prob = total_prob + random.uniform(0, noise_level)\n",
    "            # Update the best match if the current noisy probability is higher\n",
    "            if noisy_prob > max_score:\n",
    "                best_match = index2\n",
    "                max_score = noisy_prob\n",
    "        # Append the best match and the max score for this record\n",
    "        results.append({'df1_index': index1, 'df2_index': best_match, 'score': max_score})\n",
    "    return pd.DataFrame(results)\n"
   ]
  },
  {
   "cell_type": "code",
   "execution_count": 15,
   "id": "a322d1ee",
   "metadata": {
    "ExecuteTime": {
     "end_time": "2024-04-20T08:10:04.249355Z",
     "start_time": "2024-04-20T08:10:04.242236Z"
    }
   },
   "outputs": [],
   "source": [
    "def convert_numbers_to_binary(df, column_name):\n",
    "    \"\"\"Check if a feature in the DataFrame is numeric and convert each number to its binary representation.\"\"\"\n",
    "    # Check if the column is numeric\n",
    "    if pd.api.types.is_numeric_dtype(df[column_name]):\n",
    "        # Convert each number to binary (without the '0b' prefix)\n",
    "        df[column_name] = df[column_name].apply(lambda x: format(int(x), 'b'))\n",
    "    else:\n",
    "        print(f\"The column '{column_name}' is not numeric and cannot be converted to binary.\")\n",
    "    \n",
    "    return df"
   ]
  },
  {
   "cell_type": "code",
   "execution_count": 16,
   "id": "bc4215a9",
   "metadata": {
    "ExecuteTime": {
     "end_time": "2024-04-20T08:10:21.576214Z",
     "start_time": "2024-04-20T08:10:21.556186Z"
    }
   },
   "outputs": [
    {
     "name": "stdout",
     "output_type": "stream",
     "text": [
      "df1 columns: Index(['age', 'gender', 'education_level', 'income', 'height'], dtype='object')\n",
      "df2 columns: Index(['years', 'sex', 'edu_level', 'library_access', 'family_members'], dtype='object')\n"
     ]
    }
   ],
   "source": [
    "# Generate synthetic data directly for df1\n",
    "df1 = pd.DataFrame({\n",
    "    'age': np.random.randint(20, 70, size=100),  # Random ages between 20 and 70\n",
    "    'gender': np.random.randint(0, 2, size=100),  # Random binary gender\n",
    "    'education_level': np.random.randint(1, 5, size=100),  # Random education level from 1 to 4\n",
    "    'income': np.random.randint(20000, 100000, size=100),  # Random income between 20,000 and 100,000\n",
    "    'height': np.random.randint(150, 200, size=100)  # Random height between 150 cm and 200 cm\n",
    "})\n",
    "\n",
    "# Generate independent synthetic data directly for df2 with only 20 samples\n",
    "df2 = pd.DataFrame({\n",
    "    'years': np.random.randint(20, 70, size=20),  # Similar age range for easy comparison\n",
    "    'sex': np.random.randint(0, 2, size=20),  # Random binary gender\n",
    "    'edu_level': np.random.randint(1, 5, size=20),  # Random education level from 1 to 4\n",
    "    'library_access': np.random.randint(0, 2, size=20),  # Binary, 1 or 0\n",
    "    'family_members': np.random.randint(1, 7, size=20)  # Family members from 1 to 6\n",
    "})\n",
    "\n",
    "# Print column names to verify\n",
    "print(\"df1 columns:\", df1.columns)\n",
    "print(\"df2 columns:\", df2.columns)"
   ]
  },
  {
   "cell_type": "code",
   "execution_count": 17,
   "id": "9f9a33ea",
   "metadata": {
    "ExecuteTime": {
     "end_time": "2024-04-20T08:10:40.589142Z",
     "start_time": "2024-04-20T08:10:40.576067Z"
    }
   },
   "outputs": [],
   "source": [
    "# Create copies of original data before converting to binary for merging purposes\n",
    "original_df1 = df1.copy()\n",
    "original_df2 = df2.copy()\n",
    "\n",
    "# Data Preparation - Define the column names to be matched\n",
    "columns_df1 = ['age', 'gender', 'education_level']\n",
    "columns_df2 = ['years', 'sex', 'edu_level']\n",
    "\n",
    "# Convert all matching numeric columns to binary representation\n",
    "for col_df1, col_df2 in zip(columns_df1, columns_df2):\n",
    "    df1 = convert_numbers_to_binary(df1, col_df1)\n",
    "    df2 = convert_numbers_to_binary(df2, col_df2)"
   ]
  },
  {
   "cell_type": "code",
   "execution_count": 18,
   "id": "1d1ea7e9",
   "metadata": {
    "ExecuteTime": {
     "end_time": "2024-04-20T08:10:48.783898Z",
     "start_time": "2024-04-20T08:10:48.598421Z"
    }
   },
   "outputs": [
    {
     "data": {
      "text/plain": [
       "(   df1_index  df2_index     score\n",
       " 0          0         13  0.866880\n",
       " 1          1         10  0.722151\n",
       " 2          2          5  1.005730\n",
       " 3          3         13  0.720618\n",
       " 4          4          2  0.577830,\n",
       " count    100.000000\n",
       " mean       0.757224\n",
       " std        0.117573\n",
       " min        0.431027\n",
       " 25%        0.715941\n",
       " 50%        0.722081\n",
       " 75%        0.863473\n",
       " max        1.008957\n",
       " Name: score, dtype: float64)"
      ]
     },
     "execution_count": 18,
     "metadata": {},
     "output_type": "execute_result"
    }
   ],
   "source": [
    "# Run the probablistic concatenation\n",
    "matches = prob_con(df1, df2, columns_df1, columns_df2)\n",
    "matches.head(), matches['score'].describe()"
   ]
  },
  {
   "cell_type": "code",
   "execution_count": 19,
   "id": "544eff8f",
   "metadata": {
    "ExecuteTime": {
     "end_time": "2024-04-20T08:11:12.895013Z",
     "start_time": "2024-04-20T08:11:12.758333Z"
    }
   },
   "outputs": [],
   "source": [
    "# Define columns from df1 and df2 that are not matched\n",
    "unmatched_df1_columns = [col for col in original_df1.columns if col not in columns_df1]\n",
    "unmatched_df2_columns = [col for col in original_df2.columns if col not in columns_df2]\n",
    "\n",
    "# Initialize a list to collect rows for merged data\n",
    "merged_rows = []\n",
    "\n",
    "# Iterate over the matches to combine rows from original df1 and df2 using the original data\n",
    "for _, match in matches.iterrows():\n",
    "    df1_row = original_df1.loc[match['df1_index'], unmatched_df1_columns + columns_df1]\n",
    "    df2_row = original_df2.loc[match['df2_index'], unmatched_df2_columns]\n",
    "    combined_row = pd.concat([df1_row, df2_row], axis=0)\n",
    "    merged_rows.append(combined_row)\n",
    "\n",
    "# Convert the list of Series into a DataFrame and transpose\n",
    "merged_data = pd.concat(merged_rows, axis=1).T\n",
    "merged_data.columns = unmatched_df1_columns + columns_df1 + unmatched_df2_columns\n"
   ]
  },
  {
   "cell_type": "code",
   "execution_count": 20,
   "id": "560cbdf1",
   "metadata": {
    "ExecuteTime": {
     "end_time": "2024-04-20T08:11:16.698647Z",
     "start_time": "2024-04-20T08:11:16.674485Z"
    },
    "scrolled": false
   },
   "outputs": [
    {
     "data": {
      "text/html": [
       "<div>\n",
       "<style scoped>\n",
       "    .dataframe tbody tr th:only-of-type {\n",
       "        vertical-align: middle;\n",
       "    }\n",
       "\n",
       "    .dataframe tbody tr th {\n",
       "        vertical-align: top;\n",
       "    }\n",
       "\n",
       "    .dataframe thead th {\n",
       "        text-align: right;\n",
       "    }\n",
       "</style>\n",
       "<table border=\"1\" class=\"dataframe\">\n",
       "  <thead>\n",
       "    <tr style=\"text-align: right;\">\n",
       "      <th></th>\n",
       "      <th>income</th>\n",
       "      <th>height</th>\n",
       "      <th>age</th>\n",
       "      <th>gender</th>\n",
       "      <th>education_level</th>\n",
       "      <th>library_access</th>\n",
       "      <th>family_members</th>\n",
       "    </tr>\n",
       "  </thead>\n",
       "  <tbody>\n",
       "    <tr>\n",
       "      <th>0</th>\n",
       "      <td>24942</td>\n",
       "      <td>179</td>\n",
       "      <td>59</td>\n",
       "      <td>1</td>\n",
       "      <td>2</td>\n",
       "      <td>1</td>\n",
       "      <td>2</td>\n",
       "    </tr>\n",
       "    <tr>\n",
       "      <th>1</th>\n",
       "      <td>55463</td>\n",
       "      <td>185</td>\n",
       "      <td>63</td>\n",
       "      <td>0</td>\n",
       "      <td>3</td>\n",
       "      <td>1</td>\n",
       "      <td>4</td>\n",
       "    </tr>\n",
       "    <tr>\n",
       "      <th>2</th>\n",
       "      <td>78983</td>\n",
       "      <td>194</td>\n",
       "      <td>51</td>\n",
       "      <td>1</td>\n",
       "      <td>4</td>\n",
       "      <td>0</td>\n",
       "      <td>2</td>\n",
       "    </tr>\n",
       "    <tr>\n",
       "      <th>3</th>\n",
       "      <td>94130</td>\n",
       "      <td>166</td>\n",
       "      <td>45</td>\n",
       "      <td>1</td>\n",
       "      <td>2</td>\n",
       "      <td>1</td>\n",
       "      <td>2</td>\n",
       "    </tr>\n",
       "    <tr>\n",
       "      <th>4</th>\n",
       "      <td>79599</td>\n",
       "      <td>150</td>\n",
       "      <td>51</td>\n",
       "      <td>0</td>\n",
       "      <td>1</td>\n",
       "      <td>0</td>\n",
       "      <td>6</td>\n",
       "    </tr>\n",
       "    <tr>\n",
       "      <th>...</th>\n",
       "      <td>...</td>\n",
       "      <td>...</td>\n",
       "      <td>...</td>\n",
       "      <td>...</td>\n",
       "      <td>...</td>\n",
       "      <td>...</td>\n",
       "      <td>...</td>\n",
       "    </tr>\n",
       "    <tr>\n",
       "      <th>95</th>\n",
       "      <td>61288</td>\n",
       "      <td>154</td>\n",
       "      <td>56</td>\n",
       "      <td>0</td>\n",
       "      <td>3</td>\n",
       "      <td>0</td>\n",
       "      <td>3</td>\n",
       "    </tr>\n",
       "    <tr>\n",
       "      <th>96</th>\n",
       "      <td>22039</td>\n",
       "      <td>164</td>\n",
       "      <td>27</td>\n",
       "      <td>0</td>\n",
       "      <td>2</td>\n",
       "      <td>0</td>\n",
       "      <td>4</td>\n",
       "    </tr>\n",
       "    <tr>\n",
       "      <th>97</th>\n",
       "      <td>48114</td>\n",
       "      <td>177</td>\n",
       "      <td>57</td>\n",
       "      <td>0</td>\n",
       "      <td>2</td>\n",
       "      <td>0</td>\n",
       "      <td>6</td>\n",
       "    </tr>\n",
       "    <tr>\n",
       "      <th>98</th>\n",
       "      <td>59128</td>\n",
       "      <td>169</td>\n",
       "      <td>46</td>\n",
       "      <td>1</td>\n",
       "      <td>3</td>\n",
       "      <td>1</td>\n",
       "      <td>5</td>\n",
       "    </tr>\n",
       "    <tr>\n",
       "      <th>99</th>\n",
       "      <td>86867</td>\n",
       "      <td>187</td>\n",
       "      <td>50</td>\n",
       "      <td>1</td>\n",
       "      <td>3</td>\n",
       "      <td>1</td>\n",
       "      <td>5</td>\n",
       "    </tr>\n",
       "  </tbody>\n",
       "</table>\n",
       "<p>100 rows × 7 columns</p>\n",
       "</div>"
      ],
      "text/plain": [
       "    income  height  age  gender  education_level  library_access  \\\n",
       "0    24942     179   59       1                2               1   \n",
       "1    55463     185   63       0                3               1   \n",
       "2    78983     194   51       1                4               0   \n",
       "3    94130     166   45       1                2               1   \n",
       "4    79599     150   51       0                1               0   \n",
       "..     ...     ...  ...     ...              ...             ...   \n",
       "95   61288     154   56       0                3               0   \n",
       "96   22039     164   27       0                2               0   \n",
       "97   48114     177   57       0                2               0   \n",
       "98   59128     169   46       1                3               1   \n",
       "99   86867     187   50       1                3               1   \n",
       "\n",
       "    family_members  \n",
       "0                2  \n",
       "1                4  \n",
       "2                2  \n",
       "3                2  \n",
       "4                6  \n",
       "..             ...  \n",
       "95               3  \n",
       "96               4  \n",
       "97               6  \n",
       "98               5  \n",
       "99               5  \n",
       "\n",
       "[100 rows x 7 columns]"
      ]
     },
     "execution_count": 20,
     "metadata": {},
     "output_type": "execute_result"
    }
   ],
   "source": [
    "# Print the merged DataFrame\n",
    "merged_data"
   ]
  },
  {
   "cell_type": "code",
   "execution_count": null,
   "id": "3638effb",
   "metadata": {},
   "outputs": [],
   "source": []
  }
 ],
 "metadata": {
  "hide_input": false,
  "kernelspec": {
   "display_name": "Python 3 (ipykernel)",
   "language": "python",
   "name": "python3"
  },
  "language_info": {
   "codemirror_mode": {
    "name": "ipython",
    "version": 3
   },
   "file_extension": ".py",
   "mimetype": "text/x-python",
   "name": "python",
   "nbconvert_exporter": "python",
   "pygments_lexer": "ipython3",
   "version": "3.9.13"
  },
  "latex_envs": {
   "LaTeX_envs_menu_present": true,
   "autoclose": false,
   "autocomplete": true,
   "bibliofile": "biblio.bib",
   "cite_by": "apalike",
   "current_citInitial": 1,
   "eqLabelWithNumbers": true,
   "eqNumInitial": 1,
   "hotkeys": {
    "equation": "Ctrl-E",
    "itemize": "Ctrl-I"
   },
   "labels_anchors": false,
   "latex_user_defs": false,
   "report_style_numbering": false,
   "user_envs_cfg": false
  },
  "varInspector": {
   "cols": {
    "lenName": 16,
    "lenType": 16,
    "lenVar": 40
   },
   "kernels_config": {
    "python": {
     "delete_cmd_postfix": "",
     "delete_cmd_prefix": "del ",
     "library": "var_list.py",
     "varRefreshCmd": "print(var_dic_list())"
    },
    "r": {
     "delete_cmd_postfix": ") ",
     "delete_cmd_prefix": "rm(",
     "library": "var_list.r",
     "varRefreshCmd": "cat(var_dic_list()) "
    }
   },
   "types_to_exclude": [
    "module",
    "function",
    "builtin_function_or_method",
    "instance",
    "_Feature"
   ],
   "window_display": false
  }
 },
 "nbformat": 4,
 "nbformat_minor": 5
}
